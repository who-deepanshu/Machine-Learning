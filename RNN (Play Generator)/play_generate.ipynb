{
 "cells": [
  {
   "cell_type": "markdown",
   "id": "26fcdbe3",
   "metadata": {},
   "source": [
    "<h1>RNN PLay Generator"
   ]
  },
  {
   "cell_type": "code",
   "execution_count": 1,
   "id": "1f9ef1f0",
   "metadata": {},
   "outputs": [],
   "source": [
    "from keras.preprocessing import sequence\n",
    "import keras\n",
    "import tensorflow as tf\n",
    "import os\n",
    "import numpy as np"
   ]
  },
  {
   "cell_type": "markdown",
   "id": "245c19f0",
   "metadata": {},
   "source": [
    "<h1>Dataset</h1>\n",
    "<p>We only need one peice of training data. In fact, we can write our own poem or play and pass that to the network for training if we'd like. However, to make things easy we'll use an extract from a shakesphere play.</p>"
   ]
  },
  {
   "cell_type": "code",
   "execution_count": 2,
   "id": "93f25a35",
   "metadata": {},
   "outputs": [],
   "source": [
    "path_to_file = tf.keras.utils.get_file('shakespeare.txt', 'https://storage.googleapis.com/download.tensorflow.org/data/shakespeare.txt')"
   ]
  },
  {
   "cell_type": "markdown",
   "id": "3c43e04a",
   "metadata": {},
   "source": [
    "<h1>Read Contents of File"
   ]
  },
  {
   "cell_type": "code",
   "execution_count": 3,
   "id": "e88fbfb6",
   "metadata": {},
   "outputs": [
    {
     "name": "stdout",
     "output_type": "stream",
     "text": [
      "Length of text: 1115394 characters\n"
     ]
    }
   ],
   "source": [
    "# Read and decode\n",
    "text = open(path_to_file, 'rb').read().decode(encoding='utf-8')\n",
    "# length of text is the number of characters in it\n",
    "print ('Length of text: {} characters'.format(len(text)))"
   ]
  },
  {
   "cell_type": "code",
   "execution_count": 4,
   "id": "654090dc",
   "metadata": {},
   "outputs": [
    {
     "name": "stdout",
     "output_type": "stream",
     "text": [
      "First Citizen:\n",
      "Before we proceed any further, hear me speak.\n",
      "\n",
      "All:\n",
      "Speak, speak.\n",
      "\n",
      "First Citizen:\n",
      "You are all resolved rather to die than to famish?\n",
      "\n",
      "All:\n",
      "Resolved. resolved.\n",
      "\n",
      "First Citizen:\n",
      "First, you know Caius Marcius is chief enemy to the people.\n",
      "\n"
     ]
    }
   ],
   "source": [
    "# Take a look at the first 250 characters in text\n",
    "print(text[:250])"
   ]
  },
  {
   "cell_type": "markdown",
   "id": "6880eaeb",
   "metadata": {},
   "source": [
    "<h1>Encoding</h1>\n",
    "<p>Since this text isn't encoded yet well need to do that ourselves. We are going to encode each unique character as a different integer.</p>"
   ]
  },
  {
   "cell_type": "code",
   "execution_count": 5,
   "id": "74828ced",
   "metadata": {},
   "outputs": [],
   "source": [
    "vocab = sorted(set(text))\n",
    "# Creating a mapping from unique characters to indices\n",
    "char2idx = {u:i for i, u in enumerate(vocab)}        #Dictionary as {a:0,b:1,....,A:26,B:27,......,@:99.....}\n",
    "idx2char = np.array(vocab)                           #Dictionary as {0:a,1:b,....,26:A,27:B,......,99:@.....} just opposite\n",
    "\n",
    "def text_to_int(text):\n",
    "  return np.array([char2idx[c] for c in text])       #Doing same for whole file\n",
    "\n",
    "text_as_int = text_to_int(text)"
   ]
  },
  {
   "cell_type": "code",
   "execution_count": 6,
   "id": "e51bcff0",
   "metadata": {},
   "outputs": [
    {
     "name": "stdout",
     "output_type": "stream",
     "text": [
      "Text: First Citizen\n",
      "Encoded: [18 47 56 57 58  1 15 47 58 47 64 43 52]\n"
     ]
    }
   ],
   "source": [
    "# lets look at how part of our text is encoded\n",
    "print(\"Text:\", text[:13])\n",
    "print(\"Encoded:\", text_to_int(text[:13]))"
   ]
  },
  {
   "cell_type": "markdown",
   "id": "f9a762bf",
   "metadata": {},
   "source": [
    "<p>Now, we will make a function that can convert our numeric values to text."
   ]
  },
  {
   "cell_type": "code",
   "execution_count": 7,
   "id": "26442ba5",
   "metadata": {},
   "outputs": [
    {
     "name": "stdout",
     "output_type": "stream",
     "text": [
      "First Citizen\n"
     ]
    }
   ],
   "source": [
    "def int_to_text(ints):\n",
    "  try:\n",
    "    ints = ints.numpy()\n",
    "  except:\n",
    "    pass\n",
    "  return ''.join(idx2char[ints])\n",
    "\n",
    "print(int_to_text(text_as_int[:13]))"
   ]
  },
  {
   "cell_type": "markdown",
   "id": "ee0fd31a",
   "metadata": {},
   "source": [
    "<h1>Creating Training Examples</h1>\n",
    "<p>The training examples we will prepapre will use a seq_length sequence as input and a seq_length sequence as the output where that sequence is the original sequence shifted one letter to the right. For example:\n",
    "\n",
    "input: Hell | output: ello\n",
    "\n",
    "Our first step will be to create a stream of characters from our text data.</p>"
   ]
  },
  {
   "cell_type": "code",
   "execution_count": 8,
   "id": "7682f19a",
   "metadata": {},
   "outputs": [],
   "source": [
    "seq_length = 100  # length of sequence for a training example\n",
    "examples_per_epoch = len(text)//(seq_length+1)\n",
    "\n",
    "# Create training examples / targets\n",
    "char_dataset = tf.data.Dataset.from_tensor_slices(text_as_int)"
   ]
  },
  {
   "cell_type": "markdown",
   "id": "845c9d9e",
   "metadata": {},
   "source": [
    "<p>Next we can use the batch method to turn this stream of characters into batches of desired length."
   ]
  },
  {
   "cell_type": "code",
   "execution_count": 9,
   "id": "a162b9a3",
   "metadata": {},
   "outputs": [],
   "source": [
    "sequences = char_dataset.batch(seq_length+1, drop_remainder=True)"
   ]
  },
  {
   "cell_type": "markdown",
   "id": "ddbeb7f4",
   "metadata": {},
   "source": [
    "<p>Now we need to use these sequences of length 101 and split them into input and output.</p>"
   ]
  },
  {
   "cell_type": "code",
   "execution_count": 10,
   "id": "993f5d8b",
   "metadata": {},
   "outputs": [],
   "source": [
    "def split_input_target(chunk):  # for the example: hello\n",
    "    input_text = chunk[:-1]  # hell\n",
    "    target_text = chunk[1:]  # ello\n",
    "    return input_text, target_text  # hell, ello\n",
    "\n",
    "dataset = sequences.map(split_input_target)  # we use map to apply the above function to every entry"
   ]
  },
  {
   "cell_type": "code",
   "execution_count": 11,
   "id": "c38ec149",
   "metadata": {},
   "outputs": [
    {
     "name": "stdout",
     "output_type": "stream",
     "text": [
      "\n",
      "\n",
      "EXAMPLE\n",
      "\n",
      "INPUT\n",
      "First Citizen:\n",
      "Before we proceed any further, hear me speak.\n",
      "\n",
      "All:\n",
      "Speak, speak.\n",
      "\n",
      "First Citizen:\n",
      "You\n",
      "\n",
      "OUTPUT\n",
      "irst Citizen:\n",
      "Before we proceed any further, hear me speak.\n",
      "\n",
      "All:\n",
      "Speak, speak.\n",
      "\n",
      "First Citizen:\n",
      "You \n"
     ]
    }
   ],
   "source": [
    "for x, y in dataset.take(1):\n",
    "  print(\"\\n\\nEXAMPLE\\n\")\n",
    "  print(\"INPUT\")\n",
    "  print(int_to_text(x))\n",
    "  print(\"\\nOUTPUT\")\n",
    "  print(int_to_text(y))"
   ]
  },
  {
   "cell_type": "markdown",
   "id": "1fcf8802",
   "metadata": {},
   "source": [
    "<h1>Setting parameters for training batches."
   ]
  },
  {
   "cell_type": "code",
   "execution_count": 12,
   "id": "6bc8b74b",
   "metadata": {},
   "outputs": [],
   "source": [
    "BATCH_SIZE = 64\n",
    "VOCAB_SIZE = len(vocab)  # vocab is number of unique characters\n",
    "EMBEDDING_DIM = 256\n",
    "RNN_UNITS = 1024\n",
    "BUFFER_SIZE = 10000\n",
    "\n",
    "data = dataset.shuffle(BUFFER_SIZE).batch(BATCH_SIZE, drop_remainder=True)"
   ]
  },
  {
   "cell_type": "markdown",
   "id": "6002eee1",
   "metadata": {},
   "source": [
    "<h1>Building the Model</h1>\n",
    "<p>Using an embedding layer a LSTM and one dense layer that contains a node for each unique character in our training data. The dense layer will give us a probability distribution over all nodes.</p>"
   ]
  },
  {
   "cell_type": "code",
   "execution_count": 13,
   "id": "99fbee81",
   "metadata": {},
   "outputs": [
    {
     "name": "stdout",
     "output_type": "stream",
     "text": [
      "Model: \"sequential\"\n",
      "_________________________________________________________________\n",
      " Layer (type)                Output Shape              Param #   \n",
      "=================================================================\n",
      " embedding (Embedding)       (64, None, 256)           16640     \n",
      "                                                                 \n",
      " lstm (LSTM)                 (64, None, 1024)          5246976   \n",
      "                                                                 \n",
      " dense (Dense)               (64, None, 65)            66625     \n",
      "                                                                 \n",
      "=================================================================\n",
      "Total params: 5,330,241\n",
      "Trainable params: 5,330,241\n",
      "Non-trainable params: 0\n",
      "_________________________________________________________________\n"
     ]
    }
   ],
   "source": [
    "def build_model(vocab_size, embedding_dim, rnn_units, batch_size):\n",
    "  model = tf.keras.Sequential([\n",
    "    tf.keras.layers.Embedding(vocab_size, embedding_dim,\n",
    "                              batch_input_shape=[batch_size, None]),\n",
    "    tf.keras.layers.LSTM(rnn_units,\n",
    "                        return_sequences=True,\n",
    "                        stateful=True,\n",
    "                        recurrent_initializer='glorot_uniform'),\n",
    "    tf.keras.layers.Dense(vocab_size)\n",
    "  ])\n",
    "  return model\n",
    "\n",
    "model = build_model(VOCAB_SIZE,EMBEDDING_DIM, RNN_UNITS, BATCH_SIZE)\n",
    "model.summary()"
   ]
  },
  {
   "cell_type": "markdown",
   "id": "c5d09eac",
   "metadata": {},
   "source": [
    "<h1>Loss Function"
   ]
  },
  {
   "cell_type": "code",
   "execution_count": 14,
   "id": "c1a5865b",
   "metadata": {},
   "outputs": [
    {
     "name": "stdout",
     "output_type": "stream",
     "text": [
      "(64, 100, 65) (batch_size, sequence_length, vocab_size)\n"
     ]
    }
   ],
   "source": [
    "for input_example_batch, target_example_batch in data.take(1):\n",
    "  example_batch_predictions = model(input_example_batch)  # ask our model for a prediction on our first batch of training data (64 entries)\n",
    "  print(example_batch_predictions.shape, \"(batch_size, sequence_length, vocab_size)\")  # print out the output shape"
   ]
  },
  {
   "cell_type": "code",
   "execution_count": 15,
   "id": "aa6ae32f",
   "metadata": {},
   "outputs": [
    {
     "name": "stdout",
     "output_type": "stream",
     "text": [
      "64\n",
      "tf.Tensor(\n",
      "[[[ 4.4652903e-03  5.6560151e-04 -5.8756075e-03 ... -3.1550247e-03\n",
      "    2.5409414e-03 -3.4473345e-03]\n",
      "  [ 1.6467000e-03  5.4449183e-03 -7.7020298e-03 ... -7.5246103e-04\n",
      "   -1.4435524e-03 -1.3011876e-03]\n",
      "  [ 4.3017180e-03  1.0730582e-03 -2.3489846e-03 ...  3.8030453e-04\n",
      "   -5.0856487e-04 -1.3130194e-03]\n",
      "  ...\n",
      "  [ 6.9130771e-04  5.9355116e-03 -1.0107053e-02 ...  5.5837510e-03\n",
      "   -8.7660886e-03 -3.7239729e-03]\n",
      "  [ 6.4380481e-03  5.0694137e-03 -1.4482056e-02 ...  2.5711700e-03\n",
      "   -3.9925021e-03 -5.5233878e-03]\n",
      "  [ 6.3166535e-04  3.3272374e-03 -1.3914468e-02 ...  4.2586708e-03\n",
      "    2.6309100e-04 -1.6786798e-04]]\n",
      "\n",
      " [[-2.3845951e-03  4.9049510e-03 -3.5410062e-03 ...  1.3664316e-03\n",
      "   -3.3933003e-03  1.1250216e-03]\n",
      "  [ 3.1489141e-03  4.0377458e-03 -8.5084438e-03 ... -1.1129791e-03\n",
      "    2.3252796e-06 -2.4200277e-03]\n",
      "  [ 1.6007248e-03  3.5638264e-03 -8.0570029e-03 ... -3.9770254e-03\n",
      "    3.0765240e-03 -2.7433480e-03]\n",
      "  ...\n",
      "  [ 3.0552661e-03  9.0393657e-04 -4.8591755e-03 ...  7.5257639e-03\n",
      "    1.5614864e-03 -5.5440292e-03]\n",
      "  [ 7.9170316e-03 -1.1077867e-04  2.5105895e-05 ...  1.0894046e-02\n",
      "    2.5902034e-03 -1.6259524e-03]\n",
      "  [ 5.1645380e-03  5.3673172e-03 -4.0797712e-03 ...  9.8642157e-03\n",
      "   -2.2598787e-03 -9.6660538e-04]]\n",
      "\n",
      " [[-1.9764079e-04 -8.3064358e-04  5.7208398e-04 ...  4.2824293e-03\n",
      "    5.7247467e-04  1.7475046e-03]\n",
      "  [-1.7515906e-03  5.0436445e-03 -3.0138625e-03 ...  4.7896630e-03\n",
      "   -2.9258067e-03  2.2023055e-03]\n",
      "  [ 9.2444872e-04  1.2951649e-02 -4.6045668e-03 ...  1.6456059e-03\n",
      "    6.8314117e-04  2.8448291e-03]\n",
      "  ...\n",
      "  [ 1.0328507e-02  2.3456116e-03 -1.2671399e-02 ...  9.2417877e-03\n",
      "    1.1219247e-04 -1.0417104e-03]\n",
      "  [ 9.3629211e-03  1.1564721e-03 -9.5998524e-03 ...  1.1045277e-02\n",
      "    8.0280937e-04  4.1797897e-04]\n",
      "  [ 3.2286621e-03  1.2812326e-03 -4.1322405e-03 ...  7.2918516e-03\n",
      "    4.0761661e-04 -3.3274116e-03]]\n",
      "\n",
      " ...\n",
      "\n",
      " [[ 9.0673851e-04  2.5650542e-03  2.4372026e-04 ... -2.9041298e-04\n",
      "   -4.9325759e-03  1.7560693e-03]\n",
      "  [ 7.8271311e-03 -4.3055997e-04  2.3591476e-03 ... -3.6181905e-03\n",
      "   -5.7389932e-03  8.1963493e-03]\n",
      "  [ 6.8716127e-03 -5.7980269e-03  8.2155447e-03 ... -7.6727942e-04\n",
      "   -2.1094638e-03  9.1545265e-03]\n",
      "  ...\n",
      "  [ 4.8076725e-03  9.0378635e-03 -6.3913250e-03 ... -1.2217575e-03\n",
      "   -2.0157818e-03  4.3634120e-03]\n",
      "  [ 7.6983310e-03  8.4515410e-03 -1.0933568e-02 ... -3.1535013e-04\n",
      "   -1.2387976e-03 -2.8076505e-03]\n",
      "  [ 6.4533306e-03  1.5420070e-02 -1.0232379e-02 ... -3.3424813e-03\n",
      "    1.6110418e-03 -5.8621401e-04]]\n",
      "\n",
      " [[ 7.0434657e-04 -3.3969488e-03  2.1783367e-03 ... -1.6628135e-03\n",
      "    6.3093333e-03  4.9207113e-03]\n",
      "  [ 1.9894375e-03 -5.4363771e-03  3.5139113e-03 ... -3.0365763e-03\n",
      "    1.0993423e-02  9.3621733e-03]\n",
      "  [ 1.5246202e-03  5.6841462e-03  2.8000386e-03 ... -2.1776115e-03\n",
      "    4.2433990e-03  1.0128716e-02]\n",
      "  ...\n",
      "  [ 3.4889211e-03  6.3836249e-03 -1.9494283e-03 ... -9.3203492e-04\n",
      "    8.4112817e-03  6.2667290e-03]\n",
      "  [ 3.1436314e-03  1.5169236e-02 -1.4337433e-03 ...  2.1430315e-04\n",
      "    1.7353708e-03  8.0085099e-03]\n",
      "  [ 3.9040521e-03  1.0952956e-02  8.0481544e-04 ...  7.6994291e-03\n",
      "    1.1987286e-05  1.0755439e-02]]\n",
      "\n",
      " [[-5.0267028e-03  2.3715263e-03 -4.5731054e-03 ...  9.7343931e-03\n",
      "    2.1748820e-03 -3.0418658e-03]\n",
      "  [-5.9610605e-03  6.3229585e-03 -7.5732386e-03 ...  8.3072465e-03\n",
      "   -2.4428749e-03 -9.9234818e-04]\n",
      "  [ 6.9193973e-04  5.4484005e-03 -1.2516821e-02 ...  7.3803081e-03\n",
      "   -1.3055233e-03 -7.7629793e-03]\n",
      "  ...\n",
      "  [ 2.1290728e-03  1.3505224e-02 -2.5574302e-03 ...  3.5748479e-04\n",
      "   -4.0269708e-03  9.4649615e-04]\n",
      "  [-3.5873584e-03  1.1287842e-02 -4.5240428e-03 ...  1.1385083e-03\n",
      "    3.8042758e-04  5.2034790e-03]\n",
      "  [-5.8340537e-04  7.4432842e-03 -1.7469095e-03 ...  9.4295217e-05\n",
      "    6.5974253e-03  1.0268582e-02]]], shape=(64, 100, 65), dtype=float32)\n"
     ]
    }
   ],
   "source": [
    "# we can see that the predicition is an array of 64 arrays, one for each entry in the batch\n",
    "print(len(example_batch_predictions))\n",
    "print(example_batch_predictions)"
   ]
  },
  {
   "cell_type": "code",
   "execution_count": 16,
   "id": "6d321752",
   "metadata": {},
   "outputs": [
    {
     "name": "stdout",
     "output_type": "stream",
     "text": [
      "100\n",
      "tf.Tensor(\n",
      "[[ 0.00446529  0.0005656  -0.00587561 ... -0.00315502  0.00254094\n",
      "  -0.00344733]\n",
      " [ 0.0016467   0.00544492 -0.00770203 ... -0.00075246 -0.00144355\n",
      "  -0.00130119]\n",
      " [ 0.00430172  0.00107306 -0.00234898 ...  0.0003803  -0.00050856\n",
      "  -0.00131302]\n",
      " ...\n",
      " [ 0.00069131  0.00593551 -0.01010705 ...  0.00558375 -0.00876609\n",
      "  -0.00372397]\n",
      " [ 0.00643805  0.00506941 -0.01448206 ...  0.00257117 -0.0039925\n",
      "  -0.00552339]\n",
      " [ 0.00063167  0.00332724 -0.01391447 ...  0.00425867  0.00026309\n",
      "  -0.00016787]], shape=(100, 65), dtype=float32)\n"
     ]
    }
   ],
   "source": [
    "# lets examine one prediction\n",
    "pred = example_batch_predictions[0]\n",
    "print(len(pred))\n",
    "print(pred)\n",
    "# notice this is a 2d array of length 100, where each interior array is the prediction for the next character at each time step"
   ]
  },
  {
   "cell_type": "code",
   "execution_count": 17,
   "id": "a9e69106",
   "metadata": {},
   "outputs": [
    {
     "name": "stdout",
     "output_type": "stream",
     "text": [
      "65\n",
      "tf.Tensor(\n",
      "[ 4.4652903e-03  5.6560151e-04 -5.8756075e-03 -3.4436495e-03\n",
      "  1.1693568e-03  8.4362030e-03  2.1111318e-03 -4.6981727e-03\n",
      " -5.6534534e-04 -1.5818445e-03  4.2583590e-04 -2.9432266e-03\n",
      " -7.7270420e-04 -6.2912786e-03  1.4406953e-02  5.0413981e-03\n",
      "  4.4038510e-03  2.3786332e-03 -2.4063347e-03  4.0869191e-03\n",
      " -1.2744906e-03 -2.0532024e-03  1.0282603e-03 -6.2320475e-04\n",
      "  2.4158605e-03 -4.3068863e-03  9.8785525e-04  2.0409461e-04\n",
      "  2.0482712e-03 -2.1841149e-03 -2.3705035e-03  5.5924319e-03\n",
      "  1.6063289e-03  1.4207226e-03  3.1630828e-03 -1.9738611e-04\n",
      " -1.8057879e-04 -1.2948040e-03 -3.3226958e-03 -2.7639382e-03\n",
      " -4.9469317e-04  5.2293232e-03 -2.7817287e-03 -2.5667367e-04\n",
      " -3.5711552e-04 -2.1074454e-03  2.2691051e-03  1.8123249e-03\n",
      "  8.3695666e-04  3.0855567e-03  1.8933845e-03  1.8395863e-03\n",
      " -1.5628955e-04  9.5451018e-05 -4.5374362e-03  3.2223901e-03\n",
      "  9.9055413e-03  1.5119186e-03  5.2650473e-03  1.3368174e-03\n",
      " -2.4043596e-03  1.7987591e-03 -3.1550247e-03  2.5409414e-03\n",
      " -3.4473345e-03], shape=(65,), dtype=float32)\n"
     ]
    }
   ],
   "source": [
    "# finally well look at a prediction at the first timestep\n",
    "time_pred = pred[0]\n",
    "print(len(time_pred))\n",
    "print(time_pred)\n",
    "# its 65 values representing the probabillity of each character occuring next"
   ]
  },
  {
   "cell_type": "code",
   "execution_count": 18,
   "id": "b59f5050",
   "metadata": {},
   "outputs": [
    {
     "data": {
      "text/plain": [
       "\"i;XialIPr.gA-a?RXQ,axNWaRqa'?YhA\\nMBdVRAa$d3cYpuXalfPcsDf?tQmKy'cAbGURWGBBHeEy:;gFcL.\\nvwwL$;bUfjCmKkY\""
      ]
     },
     "execution_count": 18,
     "metadata": {},
     "output_type": "execute_result"
    }
   ],
   "source": [
    "# If we want to determine the predicted character we need to sample the output distribution (pick a value based on probabillity)\n",
    "sampled_indices = tf.random.categorical(pred, num_samples=1)\n",
    "\n",
    "# Reshape that array and convert all the integers to numbers to see the actual characters\n",
    "sampled_indices = np.reshape(sampled_indices, (1, -1))[0]\n",
    "predicted_chars = int_to_text(sampled_indices)\n",
    "\n",
    "predicted_chars  # Model predicted for training sequence 1"
   ]
  },
  {
   "cell_type": "code",
   "execution_count": 19,
   "id": "e75571ca",
   "metadata": {},
   "outputs": [],
   "source": [
    "# Loss function \n",
    "def loss(labels, logits):\n",
    "  return tf.keras.losses.sparse_categorical_crossentropy(labels, logits, from_logits=True)"
   ]
  },
  {
   "cell_type": "markdown",
   "id": "11290e92",
   "metadata": {},
   "source": [
    "<h1>Compiling the Model</h1>"
   ]
  },
  {
   "cell_type": "code",
   "execution_count": 20,
   "id": "e5851d98",
   "metadata": {},
   "outputs": [],
   "source": [
    "model.compile(optimizer='adam', loss=loss)"
   ]
  },
  {
   "cell_type": "markdown",
   "id": "378e189f",
   "metadata": {},
   "source": [
    "<h1>Creating Checkpoints to save weights and bias</h1>"
   ]
  },
  {
   "cell_type": "code",
   "execution_count": 21,
   "id": "01938784",
   "metadata": {},
   "outputs": [],
   "source": [
    "# Directory where the checkpoints will be saved\n",
    "checkpoint_dir = './training_checkpoints'\n",
    "# Name of the checkpoint files\n",
    "checkpoint_prefix = os.path.join(checkpoint_dir, \"ckpt_{epoch}\")\n",
    "\n",
    "checkpoint_callback=tf.keras.callbacks.ModelCheckpoint(\n",
    "    filepath=checkpoint_prefix,\n",
    "    save_weights_only=True)"
   ]
  },
  {
   "cell_type": "markdown",
   "id": "6576b36f",
   "metadata": {},
   "source": [
    "<h1>Training</h1>\n",
    "<p>We'll train our model with high number of epochs to get better accuracy and lesser loss.</p>"
   ]
  },
  {
   "cell_type": "code",
   "execution_count": 22,
   "id": "0650f1a6",
   "metadata": {},
   "outputs": [
    {
     "name": "stdout",
     "output_type": "stream",
     "text": [
      "Epoch 1/5\n"
     ]
    },
    {
     "name": "stdout",
     "output_type": "stream",
     "text": [
      "172/172 [==============================] - 655s 4s/step - loss: 2.6027\n",
      "Epoch 2/5\n",
      "172/172 [==============================] - 668s 4s/step - loss: 1.9071\n",
      "Epoch 3/5\n",
      "172/172 [==============================] - 635s 4s/step - loss: 1.6564\n",
      "Epoch 4/5\n",
      "172/172 [==============================] - 638s 4s/step - loss: 1.5178\n",
      "Epoch 5/5\n",
      "172/172 [==============================] - 640s 4s/step - loss: 1.4348\n"
     ]
    }
   ],
   "source": [
    "history = model.fit(data, epochs=5, callbacks=[checkpoint_callback])"
   ]
  },
  {
   "cell_type": "markdown",
   "id": "ed0c9fe9",
   "metadata": {},
   "source": [
    "<h1>Loading the Model</h1>\n",
    "<p>We have trained our model with high number of epochs and batch-size of 64</p>\n",
    "<p>But we'll predict output for only one input(batch)</p>"
   ]
  },
  {
   "cell_type": "code",
   "execution_count": 23,
   "id": "135e3606",
   "metadata": {},
   "outputs": [],
   "source": [
    "model = build_model(VOCAB_SIZE, EMBEDDING_DIM, RNN_UNITS, batch_size=1)"
   ]
  },
  {
   "cell_type": "markdown",
   "id": "de146b39",
   "metadata": {},
   "source": [
    "<p>Loading the weights and bias from checkpoints</p>"
   ]
  },
  {
   "cell_type": "code",
   "execution_count": 24,
   "id": "fcb95818",
   "metadata": {},
   "outputs": [],
   "source": [
    "model.load_weights(tf.train.latest_checkpoint(checkpoint_dir))\n",
    "model.build(tf.TensorShape([1, None]))"
   ]
  },
  {
   "cell_type": "markdown",
   "id": "ae82181b",
   "metadata": {},
   "source": [
    "<h1>Generating Play</h1>"
   ]
  },
  {
   "cell_type": "code",
   "execution_count": 25,
   "id": "a965c7e7",
   "metadata": {},
   "outputs": [],
   "source": [
    "def generate_text(model, start_string):\n",
    "  # Evaluation step (generating text using the learned model)\n",
    "\n",
    "  # Number of characters to generate\n",
    "  num_generate = 800\n",
    "\n",
    "  # Converting our start string to numbers (vectorizing)\n",
    "  input_eval = [char2idx[s] for s in start_string]\n",
    "  input_eval = tf.expand_dims(input_eval, 0)\n",
    "\n",
    "  # Empty string to store our results\n",
    "  text_generated = []\n",
    "\n",
    "  # Low temperatures results in more predictable text.\n",
    "  # Higher temperatures results in more surprising text.\n",
    "  temperature = 1.0\n",
    "\n",
    "  # Here batch size == 1\n",
    "  model.reset_states()\n",
    "  for i in range(num_generate):\n",
    "      predictions = model(input_eval)\n",
    "      # remove the batch dimension\n",
    "    \n",
    "      predictions = tf.squeeze(predictions, 0)\n",
    "\n",
    "      # using a categorical distribution to predict the character returned by the model\n",
    "      predictions = predictions / temperature\n",
    "      predicted_id = tf.random.categorical(predictions, num_samples=1)[-1,0].numpy()\n",
    "\n",
    "      # We pass the predicted character as the next input to the model\n",
    "      # along with the previous hidden state\n",
    "      input_eval = tf.expand_dims([predicted_id], 0)\n",
    "\n",
    "      text_generated.append(idx2char[predicted_id])\n",
    "\n",
    "  return (start_string + ''.join(text_generated))"
   ]
  },
  {
   "cell_type": "markdown",
   "id": "c0fcc381",
   "metadata": {},
   "source": [
    "<h1>Getting input....</h1>"
   ]
  },
  {
   "cell_type": "code",
   "execution_count": 26,
   "id": "9edcd326",
   "metadata": {},
   "outputs": [
    {
     "name": "stdout",
     "output_type": "stream",
     "text": [
      "romeo says.\n",
      "\n",
      "QUEEN ELIZABETH:\n",
      "Did, if I than a sound gursed men's ant\n",
      "this monusien. I spyacoward where it thear no most ruther,\n",
      "Jown: he' be not tite, my gradlip graces.\n",
      "\n",
      "Provost:\n",
      "\n",
      "PAPIS:\n",
      "I'ld spring cet thee; sfe mearth the woret love?\n",
      "And take those fraghness: therefore layferlaps, see the trief and daughter's blay of a battle cause\n",
      "As you ronam, stand and grace and one\n",
      "To whow most grace I have pride the modion;\n",
      "I merry, true answer.\n",
      "\n",
      "RONEZ:\n",
      "Nay, my rogment bean spoke's wife, therefore\n",
      "forget most me put in enemne blood on the most faster:\n",
      "And, was he my masch, that thou seep often him,\n",
      "Grseghing and orce subjoiciof clears.\n",
      "Care wau surners; poor sweet clopit down my bodom.\n",
      "\n",
      "LADY CAPULET:\n",
      "I do not stone the warlbad and thiss morrow with\n",
      "the foot to love with times and pardon'd was no more,\n",
      "And n\n"
     ]
    }
   ],
   "source": [
    "inp = input(\"Type a starting string: \")\n",
    "print(generate_text(model, inp))"
   ]
  }
 ],
 "metadata": {
  "kernelspec": {
   "display_name": "Python 3 (ipykernel)",
   "language": "python",
   "name": "python3"
  },
  "language_info": {
   "codemirror_mode": {
    "name": "ipython",
    "version": 3
   },
   "file_extension": ".py",
   "mimetype": "text/x-python",
   "name": "python",
   "nbconvert_exporter": "python",
   "pygments_lexer": "ipython3",
   "version": "3.11.3"
  }
 },
 "nbformat": 4,
 "nbformat_minor": 5
}
